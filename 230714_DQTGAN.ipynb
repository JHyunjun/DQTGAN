{
  "nbformat": 4,
  "nbformat_minor": 0,
  "metadata": {
    "colab": {
      "private_outputs": true,
      "provenance": [],
      "gpuType": "T4",
      "mount_file_id": "1A7Uowd6QUIALS-_ho5ePp0zGQve6o886",
      "authorship_tag": "ABX9TyO+1LLZFqD+8niBsaf40bf4",
      "include_colab_link": true
    },
    "kernelspec": {
      "name": "python3",
      "display_name": "Python 3"
    },
    "language_info": {
      "name": "python"
    },
    "accelerator": "GPU"
  },
  "cells": [
    {
      "cell_type": "markdown",
      "metadata": {
        "id": "view-in-github",
        "colab_type": "text"
      },
      "source": [
        "<a href=\"https://colab.research.google.com/github/JHyunjun/DQTGAN/blob/main/230714_DQTGAN.ipynb\" target=\"_parent\"><img src=\"https://colab.research.google.com/assets/colab-badge.svg\" alt=\"Open In Colab\"/></a>"
      ]
    },
    {
      "cell_type": "code",
      "execution_count": null,
      "metadata": {
        "id": "t8EX5d1FtKtY"
      },
      "outputs": [],
      "source": [
        "# Created by Hunjun, JANG\n",
        "# Recent revision date : 23.07.15\n",
        "# DQT-GAN(Data Quality Transformation-Generative Adversarial Network)\n",
        "\n",
        "!pip install pytube\n",
        "!pip install pydub\n",
        "!pip install librosa\n",
        "\n",
        "%cd /content/drive/MyDrive/Colab Notebooks/GAN/DQT-GAN/Data"
      ]
    },
    {
      "cell_type": "code",
      "source": [
        "#Check the Path\n",
        "! pwd"
      ],
      "metadata": {
        "id": "aJ77oouY7t4p"
      },
      "execution_count": null,
      "outputs": []
    },
    {
      "cell_type": "code",
      "source": [
        "from pytube import YouTube\n",
        "from pydub import AudioSegment\n",
        "import librosa\n",
        "import soundfile as sf\n",
        "import numpy as np\n",
        "import os\n",
        "import matplotlib.pyplot as plt\n",
        "\n",
        "# Youtube url\n",
        "url = 'https://www.youtube.com/watch?v=83EzIW3MbAI'\n",
        "\n",
        "# Download the url video\n",
        "yt = YouTube(url)\n",
        "stream = yt.streams.filter(only_audio=True).first()\n",
        "stream.download(filename='temp.mp4')  # save it as 'temp'\n",
        "\n",
        "# mp4 to wav\n",
        "audio = AudioSegment.from_file('temp.mp4')\n",
        "\n",
        "# Video slicing\n",
        "audio = audio[2*60*1000:5*60*1000]\n",
        "#audio = audio[2*60*1000:2*60*1000+4*1000]\n",
        "audio.export('audio.wav', format='wav')\n",
        "\n",
        "# Slicing the 4s, 8kHz sampling rate\n",
        "y_8k, sr_8k = librosa.load('audio.wav', sr=8000)  # Load audio file at 8kHz\n",
        "y_44k, sr_44k = librosa.load('audio.wav', sr=44100)\n",
        "os.makedirs('slices', exist_ok=True)\n",
        "\n",
        "# Save the first 4s video\n",
        "first_slice_8k = y_8k[0:sr_8k*4]\n",
        "first_slice_44k = y_44k[0:sr_44k*4]\n",
        "sf.write('slices/slice_0.wav', first_slice_8k, sr_8k)\n",
        "sf.write('slices/slice_0.wav', first_slice_44k, sr_44k)\n",
        "\n",
        "# plotting the first wav sequence\n",
        "plt.figure(figsize=(6, 1))\n",
        "plt.plot(first_slice_8k)\n",
        "plt.ylabel('Amplitude')\n",
        "plt.xlabel('Sample index')\n",
        "plt.title('8kHz Waveform of the first 4-second audio')\n",
        "plt.show()\n",
        "\n",
        "# plotting the first wav sequence\n",
        "plt.figure(figsize=(6, 1))\n",
        "plt.plot(first_slice_44k)\n",
        "plt.ylabel('Amplitude')\n",
        "plt.xlabel('Sample index')\n",
        "plt.title('44.1kHz Waveform of the first 4-second audio')\n",
        "plt.show()\n",
        "\n",
        "# delete the temporary data\n",
        "# os.remove('temp.mp4')\n",
        "# os.remove('audio.wav')"
      ],
      "metadata": {
        "id": "RxJOLu5vtSSq"
      },
      "execution_count": null,
      "outputs": []
    },
    {
      "cell_type": "markdown",
      "source": [],
      "metadata": {
        "id": "gjKSlO0ZFxx5"
      }
    },
    {
      "cell_type": "code",
      "source": [
        "import torch\n",
        "import torch.nn as nn\n",
        "import librosa\n",
        "\n",
        "# RNN-based Model\n",
        "class AudioUpsampler(nn.Module):\n",
        "    def __init__(self, input_size, hidden_size):\n",
        "        super(AudioUpsampler, self).__init__()\n",
        "        self.rnn = nn.RNN(input_size, hidden_size, batch_first=True)\n",
        "        self.linear = nn.Linear(hidden_size, input_size)\n",
        "\n",
        "    def forward(self, x):\n",
        "        _, hidden = self.rnn(x)\n",
        "        output = self.linear(hidden.squeeze(0))\n",
        "        return output.unsqueeze(1)\n",
        "\n",
        "# Training data load\n",
        "input_data_8k, _ = librosa.load('slices/slice_0.wav', sr=8000)\n",
        "output_data_44k, _ = librosa.load('slices/slice_0.wav', sr=44100)\n",
        "\n",
        "# Date dimension transform\n",
        "input_data_8k = torch.Tensor(input_data_8k).view(1, -1, 1)\n",
        "output_data_44k = torch.Tensor(output_data_44k).view(1, -1, 1)\n",
        "\n",
        "# Set the hyperparameter\n",
        "input_size = 1\n",
        "hidden_size = 64\n",
        "learning_rate = 0.001\n",
        "num_epochs = 100\n",
        "\n",
        "# Model and loss func\n",
        "model = AudioUpsampler(input_size, hidden_size)\n",
        "criterion = nn.MSELoss()\n",
        "optimizer = torch.optim.Adam(model.parameters(), lr=learning_rate)\n",
        "\n",
        "# training\n",
        "for epoch in range(num_epochs):\n",
        "    model.zero_grad()\n",
        "    output = model(input_data_8k)\n",
        "    loss = criterion(output, output_data_44k)\n",
        "    loss.backward()\n",
        "    optimizer.step()\n",
        "\n",
        "    if (epoch + 1) % 10 == 0:\n",
        "        print('Epoch [{}/{}], Loss: {:.4f}'.format(epoch+1, num_epochs, loss.item()))\n"
      ],
      "metadata": {
        "id": "ldt_8XIIAXSI"
      },
      "execution_count": null,
      "outputs": []
    },
    {
      "cell_type": "code",
      "source": [
        "import matplotlib.pyplot as plt\n",
        "\n",
        "# 8kHz, 44.1kHz data for testfying\n",
        "validation_input_data_8k, _ = librosa.load('slices/slice_1.wav', sr=8000)\n",
        "validation_output_data_44k, _ = librosa.load('slices/slice_1.wav', sr=44100)\n",
        "\n",
        "# Data dimension trasform\n",
        "validation_input_data_8k = torch.Tensor(validation_input_data_8k).view(1, -1, 1)\n",
        "\n",
        "# Predict\n",
        "model.eval()\n",
        "with torch.no_grad():\n",
        "    validation_output_predicted = model(validation_input_data_8k)\n",
        "\n",
        "# array to numpy\n",
        "validation_output_predicted = validation_output_predicted.view(-1).numpy()\n",
        "\n",
        "# Plotting\n",
        "plt.figure(figsize=(14, 5))\n",
        "plt.plot(validation_output_data_44k)\n",
        "plt.ylabel('Amplitude')\n",
        "plt.xlabel('Sample index')\n",
        "plt.title('Waveform of the original 4-second audio (44.1kHz)')\n",
        "plt.show()\n",
        "\n",
        "#\n",
        "plt.figure(figsize=(14, 5))\n",
        "plt.plot(validation_output_predicted)\n",
        "plt.ylabel('Amplitude')\n",
        "plt.xlabel('Sample index')\n",
        "plt.title('Waveform of the predicted 4-second audio (44.1kHz)')\n",
        "plt.show()\n"
      ],
      "metadata": {
        "id": "bmst05GTCsOX"
      },
      "execution_count": null,
      "outputs": []
    }
  ]
}