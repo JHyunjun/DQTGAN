{
  "nbformat": 4,
  "nbformat_minor": 0,
  "metadata": {
    "colab": {
      "private_outputs": true,
      "provenance": [],
      "gpuType": "T4",
      "mount_file_id": "1A7Uowd6QUIALS-_ho5ePp0zGQve6o886",
      "authorship_tag": "ABX9TyOQwRsCTeSdYuA22CgTKnq9",
      "include_colab_link": true
    },
    "kernelspec": {
      "name": "python3",
      "display_name": "Python 3"
    },
    "language_info": {
      "name": "python"
    },
    "accelerator": "GPU"
  },
  "cells": [
    {
      "cell_type": "markdown",
      "metadata": {
        "id": "view-in-github",
        "colab_type": "text"
      },
      "source": [
        "<a href=\"https://colab.research.google.com/github/JHyunjun/DQTGAN/blob/main/230714_DQTGAN.ipynb\" target=\"_parent\"><img src=\"https://colab.research.google.com/assets/colab-badge.svg\" alt=\"Open In Colab\"/></a>"
      ]
    },
    {
      "cell_type": "code",
      "execution_count": null,
      "metadata": {
        "id": "t8EX5d1FtKtY"
      },
      "outputs": [],
      "source": [
        "# Created by Hunjun, JANG\n",
        "# Recent revision date : 23.07.15\n",
        "# DQT-GAN(Data Quality Transformation-Generative Adversarial Network)\n",
        "\n",
        "!pip install pytube\n",
        "!pip install pydub\n",
        "!pip install librosa\n",
        "\n",
        "%cd /content/drive/MyDrive/Colab Notebooks/GAN/DQT-GAN/Data"
      ]
    },
    {
      "cell_type": "code",
      "source": [
        "#Check the Path\n",
        "! pwd"
      ],
      "metadata": {
        "id": "aJ77oouY7t4p"
      },
      "execution_count": null,
      "outputs": []
    },
    {
      "cell_type": "code",
      "source": [
        "from pytube import YouTube\n",
        "from pydub import AudioSegment\n",
        "import librosa\n",
        "import soundfile as sf\n",
        "import numpy as np\n",
        "import os\n",
        "import matplotlib.pyplot as plt\n",
        "\n",
        "# Youtube url\n",
        "url = 'https://www.youtube.com/watch?v=83EzIW3MbAI'\n",
        "\n",
        "# Download the url video\n",
        "yt = YouTube(url)\n",
        "stream = yt.streams.filter(only_audio=True).first()\n",
        "stream.download(filename='temp.mp4')  # save it as 'temp'\n",
        "\n",
        "# mp4 to wav\n",
        "audio = AudioSegment.from_file('temp.mp4')\n",
        "\n",
        "# Video slicing\n",
        "audio = audio[2*60*1000:5*60*1000]\n",
        "audio.export('audio.wav', format='wav')\n",
        "\n",
        "# Slicing the 4s, 8kHz sampling rate\n",
        "y_8k, sr_8k = librosa.load('audio.wav', sr=8000)  # Load audio file at 8kHz\n",
        "y_44k, sr_44k = librosa.load('audio.wav', sr=44100)\n",
        "os.makedirs('slices', exist_ok=True)\n",
        "\n",
        "# Save the first 4s video\n",
        "first_slice_8k = y_8k[0:sr_8k*4]\n",
        "first_slice_44k = y_44k[0:sr_44k*4]\n",
        "sf.write('slices/slice_0.wav', first_slice_8k, sr_8k)\n",
        "sf.write('slices/slice_0.wav', first_slice_44k, sr_44k)\n",
        "\n",
        "# plotting the first wav sequence\n",
        "plt.figure(figsize=(6, 1))\n",
        "plt.plot(first_slice_8k)\n",
        "plt.ylabel('Amplitude')\n",
        "plt.xlabel('Sample index')\n",
        "plt.title('8kHz Waveform of the first 4-second audio')\n",
        "plt.show()\n",
        "\n",
        "# plotting the first wav sequence\n",
        "plt.figure(figsize=(6, 1))\n",
        "plt.plot(first_slice_44k)\n",
        "plt.ylabel('Amplitude')\n",
        "plt.xlabel('Sample index')\n",
        "plt.title('44.1kHz Waveform of the first 4-second audio')\n",
        "plt.show()\n",
        "\n",
        "# delete the temporary data\n",
        "os.remove('temp.mp4')\n",
        "os.remove('audio.wav')\n"
      ],
      "metadata": {
        "id": "RxJOLu5vtSSq"
      },
      "execution_count": null,
      "outputs": []
    }
  ]
}