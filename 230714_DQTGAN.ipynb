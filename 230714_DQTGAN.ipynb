{
  "nbformat": 4,
  "nbformat_minor": 0,
  "metadata": {
    "colab": {
      "private_outputs": true,
      "provenance": [],
      "gpuType": "T4",
      "mount_file_id": "1A7Uowd6QUIALS-_ho5ePp0zGQve6o886",
      "authorship_tag": "ABX9TyOsD9hBqrlKqbB07b5ygUjo",
      "include_colab_link": true
    },
    "kernelspec": {
      "name": "python3",
      "display_name": "Python 3"
    },
    "language_info": {
      "name": "python"
    },
    "accelerator": "GPU"
  },
  "cells": [
    {
      "cell_type": "markdown",
      "metadata": {
        "id": "view-in-github",
        "colab_type": "text"
      },
      "source": [
        "<a href=\"https://colab.research.google.com/github/JHyunjun/DQTGAN/blob/main/230714_DQTGAN.ipynb\" target=\"_parent\"><img src=\"https://colab.research.google.com/assets/colab-badge.svg\" alt=\"Open In Colab\"/></a>"
      ]
    },
    {
      "cell_type": "code",
      "execution_count": null,
      "metadata": {
        "id": "t8EX5d1FtKtY"
      },
      "outputs": [],
      "source": [
        "# Created by Hunjun, JANG\n",
        "# Recent revision date : 23.07.15\n",
        "# DQT-GAN(Data Quality Transformation-Generative Adversarial Network)\n",
        "\n",
        "!pip install pytube\n",
        "!pip install pydub\n",
        "!pip install librosa\n",
        "\n",
        "%cd /content/drive/MyDrive/Colab Notebooks/GAN/DQT-GAN/Data"
      ]
    },
    {
      "cell_type": "code",
      "source": [
        "#Check the Path\n",
        "! pwd"
      ],
      "metadata": {
        "id": "aJ77oouY7t4p"
      },
      "execution_count": null,
      "outputs": []
    },
    {
      "cell_type": "code",
      "source": [
        "from pytube import YouTube\n",
        "from pydub import AudioSegment\n",
        "import librosa\n",
        "import soundfile as sf\n",
        "import numpy as np\n",
        "import os\n",
        "import matplotlib.pyplot as plt\n",
        "\n",
        "# 유튜브 동영상 URL\n",
        "url = 'https://www.youtube.com/watch?v=83EzIW3MbAI'\n",
        "\n",
        "# 유튜브 동영상 다운로드\n",
        "yt = YouTube(url)\n",
        "stream = yt.streams.filter(only_audio=True).first()\n",
        "stream.download(filename='temp.mp4')  # 파일 이름을 'temp.mp4'로 지정\n",
        "\n",
        "# mp4 파일을 wav 파일로 변환\n",
        "audio = AudioSegment.from_file('temp.mp4')\n",
        "\n",
        "# 2분~5분 부분만 잘라내기 (pydub은 milliseconds 단위를 사용함을 유의)\n",
        "audio = audio[2*60*1000:5*60*1000]\n",
        "audio.export('audio.wav', format='wav')\n",
        "\n",
        "# 샘플링 레이트를 8kHz로 변경하고, 오디오를 4초 단위로 분할\n",
        "y, sr = librosa.load('audio.wav', sr=8000)  # Load audio file at 8kHz\n",
        "os.makedirs('slices', exist_ok=True)\n",
        "\n",
        "# 첫 번째 4초짜리 조각 저장\n",
        "first_slice = y[0:sr*4]\n",
        "sf.write('slices/slice_0.wav', first_slice, sr)\n",
        "\n",
        "# 첫 번째 4초짜리 조각 plotting\n",
        "plt.figure(figsize=(6, 5))\n",
        "plt.plot(first_slice)\n",
        "plt.ylabel('Amplitude')\n",
        "plt.xlabel('Sample index')\n",
        "plt.title('Waveform of the first 4-second audio')\n",
        "plt.show()\n",
        "\n",
        "# 임시 파일 삭제\n",
        "os.remove('temp.mp4')\n",
        "os.remove('audio.wav')\n"
      ],
      "metadata": {
        "id": "RxJOLu5vtSSq"
      },
      "execution_count": null,
      "outputs": []
    }
  ]
}