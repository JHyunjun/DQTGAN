{
  "nbformat": 4,
  "nbformat_minor": 0,
  "metadata": {
    "colab": {
      "private_outputs": true,
      "provenance": [],
      "gpuType": "T4",
      "mount_file_id": "1A7Uowd6QUIALS-_ho5ePp0zGQve6o886",
      "authorship_tag": "ABX9TyP/K970YQeB3Y1iaklSyV4y",
      "include_colab_link": true
    },
    "kernelspec": {
      "name": "python3",
      "display_name": "Python 3"
    },
    "language_info": {
      "name": "python"
    },
    "accelerator": "GPU"
  },
  "cells": [
    {
      "cell_type": "markdown",
      "metadata": {
        "id": "view-in-github",
        "colab_type": "text"
      },
      "source": [
        "<a href=\"https://colab.research.google.com/github/JHyunjun/DQTGAN/blob/main/230715_DQTGAN_DNN.ipynb\" target=\"_parent\"><img src=\"https://colab.research.google.com/assets/colab-badge.svg\" alt=\"Open In Colab\"/></a>"
      ]
    },
    {
      "cell_type": "code",
      "execution_count": null,
      "metadata": {
        "id": "t8EX5d1FtKtY"
      },
      "outputs": [],
      "source": [
        "# Created by Hunjun, JANG\n",
        "# Recent revision date : 23.07.15\n",
        "# DQT-GAN(Data Quality Transformation-Generative Adversarial Network)\n",
        "\n",
        "!pip install pytube\n",
        "!pip install pydub\n",
        "!pip install librosa\n",
        "\n",
        "%cd /content/drive/MyDrive/Colab Notebooks/GAN/DQT-GAN/Data"
      ]
    },
    {
      "cell_type": "code",
      "source": [
        "from google.colab import drive\n",
        "drive.mount('/content/drive')"
      ],
      "metadata": {
        "id": "JX2O3N9oCxEA"
      },
      "execution_count": null,
      "outputs": []
    },
    {
      "cell_type": "code",
      "source": [
        "#Check the Path\n",
        "! pwd"
      ],
      "metadata": {
        "id": "aJ77oouY7t4p"
      },
      "execution_count": null,
      "outputs": []
    },
    {
      "cell_type": "code",
      "source": [
        "from pytube import YouTube\n",
        "from pydub import AudioSegment\n",
        "import librosa\n",
        "import soundfile as sf\n",
        "import numpy as np\n",
        "import os\n",
        "import matplotlib.pyplot as plt\n",
        "\n",
        "# Youtube url\n",
        "url = 'https://www.youtube.com/watch?v=83EzIW3MbAI'\n",
        "\n",
        "# Download the url video\n",
        "yt = YouTube(url)\n",
        "stream = yt.streams.filter(only_audio=True).first()\n",
        "stream.download(filename='temp.mp4')  # save it as 'temp'\n",
        "\n",
        "# mp4 to wav\n",
        "audio = AudioSegment.from_file('temp.mp4')\n",
        "\n",
        "# Video slicing\n",
        "audio = audio[2*60*1000:5*60*1000]\n",
        "#audio = audio[2*60*1000:2*60*1000+4*1000]\n",
        "audio.export('audio.wav', format='wav')\n",
        "\n",
        "# Slicing the 4s, 8kHz sampling rate\n",
        "y_8k, sr_8k = librosa.load('audio.wav', sr=8000)  # Load audio file at 8kHz\n",
        "y_44k, sr_44k = librosa.load('audio.wav', sr=44100)\n",
        "os.makedirs('slices', exist_ok=True)\n",
        "\n",
        "# Save the first 4s video\n",
        "first_slice_8k = y_8k[0:sr_8k*4]\n",
        "first_slice_44k = y_44k[0:sr_44k*4]\n",
        "sf.write('slices/slice_0_8k.wav', first_slice_8k, sr_8k)\n",
        "sf.write('slices/slice_0_44k.wav', first_slice_44k, sr_44k)\n",
        "\n",
        "# plotting the first wav sequence (8kHz)\n",
        "plt.figure(figsize=(10, 4))\n",
        "plt.plot(first_slice_8k)\n",
        "plt.ylabel('Amplitude')\n",
        "plt.xlabel('Sample index')\n",
        "plt.title('8kHz Waveform of the first 4-second audio')\n",
        "plt.show()\n",
        "\n",
        "# plotting the first wav sequence (44.1kHz)\n",
        "plt.figure(figsize=(10, 4))\n",
        "plt.plot(first_slice_44k)\n",
        "plt.ylabel('Amplitude')\n",
        "plt.xlabel('Sample index')\n",
        "plt.title('44.1kHz Waveform of the first 4-second audio')\n",
        "plt.show()\n",
        "\n",
        "# delete the temporary data\n",
        "# os.remove('temp.mp4')\n",
        "# os.remove('audio.wav')\n"
      ],
      "metadata": {
        "id": "RxJOLu5vtSSq"
      },
      "execution_count": null,
      "outputs": []
    },
    {
      "cell_type": "markdown",
      "source": [],
      "metadata": {
        "id": "gjKSlO0ZFxx5"
      }
    },
    {
      "cell_type": "code",
      "source": [
        "import torch\n",
        "import torch.nn as nn\n",
        "import librosa\n",
        "import numpy as np\n",
        "import os\n",
        "\n",
        "# Define DNN Model\n",
        "class AudioUpsampler(nn.Module):\n",
        "    def __init__(self, input_size, hidden_size, output_size):\n",
        "        super(AudioUpsampler, self).__init__()\n",
        "        self.fc1 = nn.Linear(input_size, hidden_size)\n",
        "        self.fc2 = nn.Linear(hidden_size, hidden_size)\n",
        "        self.fc3 = nn.Linear(hidden_size, hidden_size)\n",
        "        self.fc4 = nn.Linear(hidden_size, hidden_size)\n",
        "        self.fc5 = nn.Linear(hidden_size, hidden_size)\n",
        "        self.fc6 = nn.Linear(hidden_size, output_size)\n",
        "\n",
        "    def forward(self, x):\n",
        "        x = torch.relu(self.fc1(x))\n",
        "        x = self.fc2(x)\n",
        "        x = self.fc3(x)\n",
        "        x = self.fc4(x)\n",
        "        x = self.fc5(x)\n",
        "        x = self.fc6(x)\n",
        "        return x\n",
        "\n",
        "# Load Training Data\n",
        "input_data_8k, _ = librosa.load('slices/slice_0_8k.wav', sr=8000)\n",
        "output_data_44k, _ = librosa.load('slices/slice_0_44k.wav', sr=44100)\n",
        "\n",
        "# Pad or Trim the Data to Match Sizes\n",
        "target_size = max(len(input_data_8k), len(output_data_44k))\n",
        "input_data_8k = np.pad(input_data_8k, (0, target_size - len(input_data_8k)), mode='constant')\n",
        "output_data_44k = np.pad(output_data_44k, (0, target_size - len(output_data_44k)), mode='constant')\n",
        "\n",
        "# Data Dimension Transformation\n",
        "input_data_8k = torch.Tensor(input_data_8k).view(-1, 1)\n",
        "output_data_44k = torch.Tensor(output_data_44k).view(-1, 1)\n",
        "\n",
        "# Set Hyperparameters\n",
        "input_size = 1\n",
        "hidden_size = 128\n",
        "output_size = 1\n",
        "learning_rate = 0.001\n",
        "num_epochs = 100\n",
        "\n",
        "# Create DNN Model\n",
        "model = AudioUpsampler(input_size, hidden_size, output_size)\n",
        "\n",
        "# Define Loss Function and Optimizer\n",
        "criterion = nn.MSELoss()\n",
        "optimizer = torch.optim.Adam(model.parameters(), lr=learning_rate)\n",
        "\n",
        "# Training\n",
        "for epoch in range(num_epochs):\n",
        "    model.zero_grad()\n",
        "    output = model(input_data_8k)\n",
        "    loss = criterion(output, output_data_44k)\n",
        "    loss.backward()\n",
        "    optimizer.step()\n",
        "\n",
        "    if (epoch + 1) % 10 == 0:\n",
        "        print('Epoch [{}/{}], Loss: {:.4f}'.format(epoch+1, num_epochs, loss.item()))\n",
        "\n",
        "# Save the Trained Model\n",
        "torch.save(model.state_dict(), 'dnn_model.pt')\n"
      ],
      "metadata": {
        "id": "ldt_8XIIAXSI"
      },
      "execution_count": null,
      "outputs": []
    },
    {
      "cell_type": "code",
      "source": [
        "import matplotlib.pyplot as plt\n",
        "\n",
        "# Validate\n",
        "model.eval()  # set the model to evaluation mode\n",
        "with torch.no_grad():\n",
        "    predicted_output_44k = model(input_data_8k)\n",
        "\n",
        "# Convert tensors to numpy arrays for plotting\n",
        "input_data_8k_np = input_data_8k.numpy()\n",
        "predicted_output_44k_np = predicted_output_44k.numpy()\n",
        "output_data_44k_np = output_data_44k.numpy()\n",
        "\n",
        "# Create time axes for the audio signals\n",
        "time_8k = np.linspace(0, len(input_data_8k_np) / 8000, len(input_data_8k_np))\n",
        "time_44k = np.linspace(0, len(output_data_44k_np) / 44100, len(output_data_44k_np))\n",
        "\n",
        "# Plot\n",
        "plt.figure(figsize=(12, 8))\n",
        "\n",
        "# Plot 8kHz input\n",
        "plt.subplot(3, 1, 1)\n",
        "plt.plot(time_8k, input_data_8k_np, label='8kHz input')\n",
        "plt.legend()\n",
        "\n",
        "# Plot predicted 44kHz output\n",
        "plt.subplot(3, 1, 2)\n",
        "plt.plot(time_44k, predicted_output_44k_np, label='Predicted 44kHz output')\n",
        "plt.legend()\n",
        "\n",
        "# Plot actual 44kHz output\n",
        "plt.subplot(3, 1, 3)\n",
        "plt.plot(time_44k, output_data_44k_np, label='Actual 44kHz output')\n",
        "plt.legend()\n",
        "\n",
        "plt.show()\n"
      ],
      "metadata": {
        "id": "Sc1qwOhBUMCc"
      },
      "execution_count": null,
      "outputs": []
    }
  ]
}